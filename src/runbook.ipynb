{
 "cells": [
  {
   "cell_type": "code",
   "execution_count": 1,
   "metadata": {},
   "outputs": [],
   "source": [
    "import create_training_dataset_v0\n",
    "import os"
   ]
  },
  {
   "cell_type": "code",
   "execution_count": 5,
   "metadata": {},
   "outputs": [],
   "source": [
    "create_training_dataset_v0.create_v0_ds()"
   ]
  },
  {
   "cell_type": "code",
   "execution_count": 1,
   "metadata": {},
   "outputs": [],
   "source": [
    "import model_training"
   ]
  },
  {
   "cell_type": "code",
   "execution_count": 2,
   "metadata": {},
   "outputs": [
    {
     "name": "stdout",
     "output_type": "stream",
     "text": [
      "-1\n",
      "10000=0.7103493274442882\n",
      "20000=0.8131692044128723\n",
      "30000=0.8401960895913578\n",
      "40000=0.8585129027779921\n",
      "50000=0.8803235956810537\n",
      "60000=0.870649723158958\n",
      "70000=0.8724382384532761\n",
      "80000=0.8736681655770925\n",
      "90000=0.8771689805256442\n",
      "100000=0.8721452426354717\n",
      "110000=0.8710446154232634\n",
      "120000=0.8709662882009734\n",
      "130000=0.865166283300463\n",
      "140000=0.8629355832903951\n",
      "150000=0.8659457355050597\n",
      "160000=0.8797353958062306\n",
      "170000=0.8823649427545914\n",
      "180000=0.8833450501490315\n",
      "190000=0.885005618645993\n",
      "200000=0.8828917744580396\n",
      "210000=0.8809942957516959\n",
      "220000=0.879789789854461\n",
      "230000=0.8812096663924617\n",
      "240000=0.8813549625843801\n",
      "250000=0.8810447989625291\n",
      "260000=0.880181797404197\n",
      "270000=0.8807751329447387\n",
      "280000=0.8771737534128569\n",
      "0.875198097724255\n",
      "Publish model update\n"
     ]
    }
   ],
   "source": [
    "model_training.train_model()"
   ]
  },
  {
   "cell_type": "code",
   "execution_count": 1,
   "metadata": {},
   "outputs": [],
   "source": [
    "import model_utils"
   ]
  },
  {
   "cell_type": "code",
   "execution_count": 7,
   "metadata": {},
   "outputs": [
    {
     "data": {
      "text/plain": [
       "-1"
      ]
     },
     "execution_count": 7,
     "metadata": {},
     "output_type": "execute_result"
    }
   ],
   "source": [
    "model_utils.get_current_model_version()"
   ]
  },
  {
   "cell_type": "code",
   "execution_count": 7,
   "metadata": {},
   "outputs": [
    {
     "name": "stdout",
     "output_type": "stream",
     "text": [
      "2021-10-11 20:42:29,581\tINFO services.py:1250 -- View the Ray dashboard at \u001b[1m\u001b[32mhttp://127.0.0.1:8265\u001b[39m\u001b[22m\n",
      "\u001b[2m\u001b[36m(pid=1836)\u001b[0m 2021-10-11 20:42:30,474\tINFO checkpoint_path.py:15 -- Using RayInternalKVStore for controller checkpoint and recovery.\n",
      "\u001b[2m\u001b[36m(pid=1836)\u001b[0m 2021-10-11 20:42:30,503\tINFO http_state.py:75 -- Starting HTTP proxy with name 'SERVE_CONTROLLER_ACTOR:OvhfwX:SERVE_PROXY_ACTOR-node:10.0.44.15-0' on node 'node:10.0.44.15-0' listening on '127.0.0.1:8000'\n",
      "\u001b[2m\u001b[36m(pid=1834)\u001b[0m INFO:     Started server process [1834]\n",
      "2021-10-11 20:42:30,760\tINFO api.py:455 -- Started Serve instance in namespace 'a83a67bd-3bf5-4ee2-af40-41dcf2555959'.\n",
      "2021-10-11 20:42:30,769\tINFO api.py:243 -- Updating deployment 'ModelServing'. component=serve deployment=ModelServing\n",
      "\u001b[2m\u001b[36m(pid=1836)\u001b[0m 2021-10-11 20:42:30,821\tINFO backend_state.py:896 -- Adding 1 replicas to deployment 'ModelServing'. component=serve deployment=ModelServing\n",
      "2021-10-11 20:42:32,573\tINFO api.py:250 -- Deployment 'ModelServing' is ready at `http://127.0.0.1:8000/predict`. component=serve deployment=ModelServing\n",
      "Now waiting\n",
      "\u001b[2m\u001b[36m(ModelServing pid=1910)\u001b[0m Recieve model update\n",
      "\u001b[2m\u001b[36m(ModelServing pid=1910)\u001b[0m Recieve model update\n",
      "\u001b[2m\u001b[36m(ModelServing pid=1910)\u001b[0m Recieve model update\n",
      "\u001b[2m\u001b[36m(ModelServing pid=1910)\u001b[0m Recieve model update\n",
      "\u001b[2m\u001b[36m(pid=1836)\u001b[0m 2021-10-11 23:29:12,766\tINFO backend_state.py:914 -- Removing 1 replicas from deployment 'ModelServing'. component=serve deployment=ModelServing\n",
      "\u001b[0m"
     ]
    }
   ],
   "source": [
    "##Start ray.serve\n",
    "!python3 /mnt/code/src/model_serving.py"
   ]
  },
  {
   "cell_type": "code",
   "execution_count": 6,
   "metadata": {},
   "outputs": [
    {
     "name": "stdout",
     "output_type": "stream",
     "text": [
      "^C\n",
      "Traceback (most recent call last):\n",
      "  File \"/mnt/code/src/event_producer.py\", line 46, in <module>\n",
      "    producer.flush()\n",
      "KeyboardInterrupt\n"
     ]
    }
   ],
   "source": [
    "##Start event generator\n",
    "!python3 /mnt/code/src/event_producer.py"
   ]
  },
  {
   "cell_type": "code",
   "execution_count": 20,
   "metadata": {},
   "outputs": [
    {
     "name": "stdout",
     "output_type": "stream",
     "text": [
      "400\n",
      "{'Date': 'Tue, 12 Oct 2021 18:28:26 GMT', 'Content-Type': 'application/json', 'Content-Length': '260', 'Connection': 'keep-alive', 'X-Request-ID': 'NXCAJ9KHZ7R2QGLP', 'Domino-Server': 'nginx-ingress,model-api,', 'Access-Control-Allow-Origin': '*', 'Access-Control-Allow-Methods': 'POST', 'Access-Control-Allow-Headers': 'authorization,content-type'}\n",
      "{'error': {'message': 'can only concatenate str (not \"NoneType\") to str'}, 'model_time_in_ms': 0, 'release': {'harness_version': '0.1', 'model_version': '6165ca99e1bdfe705350d4ef', 'model_version_number': 4}, 'request_id': 'NXCAJ9KHZ7R2QGLP', 'timing': 0.2384185791015625}\n"
     ]
    }
   ],
   "source": [
    "import requests\n",
    "import json\n",
    "p= {\"parameters\": [{\n",
    "\t\t\t\"V1\": \"-0.657616087911944\",\n",
    "\t\t\t\"V2\": \"1.03537183836808\",\n",
    "\t\t\t\"V3\": \"2.29914192080499\",\n",
    "\t\t\t\"V4\": \"2.92166956184269\",\n",
    "\t\t\t\"V5\": \"-0.0947451969010652\",\n",
    "\t\t\t\"V6\": \"0.895020410627401\",\n",
    "\t\t\t\"V7\": \"0.26712551321791\",\n",
    "\t\t\t\"V8\": \"0.10211863863235\",\n",
    "\t\t\t\"V9\": \"-0.403654482114575\",\n",
    "\t\t\t\"V10\": \"1.17958694969639\",\n",
    "\t\t\t\"V11\": \"-0.578225593091631\",\n",
    "\t\t\t\"V12\": \"-0.0116635307789695\",\n",
    "\t\t\t\"V13\": \"0.525398852635495\",\n",
    "\t\t\t\"V14\": \"-0.697505316529036\",\n",
    "\t\t\t\"V15\": \"0.528394041391276\",\n",
    "\t\t\t\"V16\": \"-0.710354526236512\",\n",
    "\t\t\t\"V17\": \"0.391328780674197\",\n",
    "\t\t\t\"V18\": \"-0.312695021187024\",\n",
    "\t\t\t\"V19\": \"0.508641970173187\",\n",
    "\t\t\t\"V20\": \"0.435907790459771\",\n",
    "\t\t\t\"V21\": \"0.0775634904512596\",\n",
    "\t\t\t\"V22\": \"0.910979503913737\",\n",
    "\t\t\t\"V23\": \"-0.0666810861509485\",\n",
    "\t\t\t\"V24\": \"0.130745821748665\",\n",
    "\t\t\t\"V25\": \"-0.286511940980507\",\n",
    "\t\t\t\"V26\": \"0.355409652284987\",\n",
    "\t\t\t\"V27\": \"0.425114064984828\",\n",
    "\t\t\t\"V28\": \"0.0439624237623181\",\n",
    "\t\t\t\"Amount\": \"33.62\",\n",
    "\t\t\t\"version\": 0\n",
    "\t\t}]}\n",
    "response = requests.post(\"https://field.cs.domino.tech:443/models/6164a49f15f9125510d5791e/latest/model\",\n",
    "    json=p)\n",
    "\n",
    "print(response.status_code)\n",
    "print(response.headers)\n",
    "print(response.json())"
   ]
  },
  {
   "cell_type": "code",
   "execution_count": null,
   "metadata": {},
   "outputs": [],
   "source": []
  }
 ],
 "metadata": {
  "kernelspec": {
   "display_name": "Python 3",
   "language": "python",
   "name": "python3"
  },
  "language_info": {
   "codemirror_mode": {
    "name": "ipython",
    "version": 3
   },
   "file_extension": ".py",
   "mimetype": "text/x-python",
   "name": "python",
   "nbconvert_exporter": "python",
   "pygments_lexer": "ipython3",
   "version": "3.8.5"
  }
 },
 "nbformat": 4,
 "nbformat_minor": 5
}
