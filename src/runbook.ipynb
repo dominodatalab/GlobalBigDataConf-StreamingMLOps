{
 "cells": [
  {
   "cell_type": "code",
   "execution_count": 1,
   "id": "9e65130e-2da6-4088-b2f1-5497b7a92820",
   "metadata": {},
   "outputs": [],
   "source": [
    "import create_training_dataset_v0\n",
    "import os"
   ]
  },
  {
   "cell_type": "code",
   "execution_count": 5,
   "id": "2b21484c-3603-40fc-8b99-64889a179688",
   "metadata": {},
   "outputs": [],
   "source": [
    "create_training_dataset_v0.create_v0_ds()"
   ]
  },
  {
   "cell_type": "code",
   "execution_count": 1,
   "id": "be9dbd5d-f6e7-43ea-a108-d5646f2771cc",
   "metadata": {},
   "outputs": [],
   "source": [
    "import model_training"
   ]
  },
  {
   "cell_type": "code",
   "execution_count": 2,
   "id": "b7b4ba92-53ae-4266-8390-3b7075141f07",
   "metadata": {},
   "outputs": [
    {
     "name": "stdout",
     "output_type": "stream",
     "text": [
      "-1\n",
      "10000=0.7103493274442882\n",
      "20000=0.8131692044128723\n",
      "30000=0.8401960895913578\n",
      "40000=0.8585129027779921\n",
      "50000=0.8803235956810537\n",
      "60000=0.870649723158958\n",
      "70000=0.8724382384532761\n",
      "80000=0.8736681655770925\n",
      "90000=0.8771689805256442\n",
      "100000=0.8721452426354717\n",
      "110000=0.8710446154232634\n",
      "120000=0.8709662882009734\n",
      "130000=0.865166283300463\n",
      "140000=0.8629355832903951\n",
      "150000=0.8659457355050597\n",
      "160000=0.8797353958062306\n",
      "170000=0.8823649427545914\n",
      "180000=0.8833450501490315\n",
      "190000=0.885005618645993\n",
      "200000=0.8828917744580396\n",
      "210000=0.8809942957516959\n",
      "220000=0.879789789854461\n",
      "230000=0.8812096663924617\n",
      "240000=0.8813549625843801\n",
      "250000=0.8810447989625291\n",
      "260000=0.880181797404197\n",
      "270000=0.8807751329447387\n",
      "280000=0.8771737534128569\n",
      "0.875198097724255\n",
      "Publish model update\n"
     ]
    }
   ],
   "source": [
    "model_training.train_model()"
   ]
  },
  {
   "cell_type": "code",
   "execution_count": 6,
   "id": "1a40b4e1-36cc-49b7-988a-e7ee87742b45",
   "metadata": {},
   "outputs": [],
   "source": [
    "import model_utils"
   ]
  },
  {
   "cell_type": "code",
   "execution_count": 7,
   "id": "928277df-430e-45ce-87c1-3986eb6b388a",
   "metadata": {},
   "outputs": [
    {
     "data": {
      "text/plain": [
       "-1"
      ]
     },
     "execution_count": 7,
     "metadata": {},
     "output_type": "execute_result"
    }
   ],
   "source": [
    "model_utils.get_current_model_version()"
   ]
  },
  {
   "cell_type": "code",
   "execution_count": null,
   "id": "7947dc16-086e-42c5-9ca0-ead75eb3b865",
   "metadata": {},
   "outputs": [
    {
     "name": "stdout",
     "output_type": "stream",
     "text": [
      "2021-10-11 20:42:29,581\tINFO services.py:1250 -- View the Ray dashboard at \u001b[1m\u001b[32mhttp://127.0.0.1:8265\u001b[39m\u001b[22m\n",
      "\u001b[2m\u001b[36m(pid=1836)\u001b[0m 2021-10-11 20:42:30,474\tINFO checkpoint_path.py:15 -- Using RayInternalKVStore for controller checkpoint and recovery.\n",
      "\u001b[2m\u001b[36m(pid=1836)\u001b[0m 2021-10-11 20:42:30,503\tINFO http_state.py:75 -- Starting HTTP proxy with name 'SERVE_CONTROLLER_ACTOR:OvhfwX:SERVE_PROXY_ACTOR-node:10.0.44.15-0' on node 'node:10.0.44.15-0' listening on '127.0.0.1:8000'\n",
      "\u001b[2m\u001b[36m(pid=1834)\u001b[0m INFO:     Started server process [1834]\n",
      "2021-10-11 20:42:30,760\tINFO api.py:455 -- Started Serve instance in namespace 'a83a67bd-3bf5-4ee2-af40-41dcf2555959'.\n",
      "2021-10-11 20:42:30,769\tINFO api.py:243 -- Updating deployment 'ModelServing'. component=serve deployment=ModelServing\n",
      "\u001b[2m\u001b[36m(pid=1836)\u001b[0m 2021-10-11 20:42:30,821\tINFO backend_state.py:896 -- Adding 1 replicas to deployment 'ModelServing'. component=serve deployment=ModelServing\n",
      "2021-10-11 20:42:32,573\tINFO api.py:250 -- Deployment 'ModelServing' is ready at `http://127.0.0.1:8000/predict`. component=serve deployment=ModelServing\n",
      "Now waiting\n",
      "\u001b[2m\u001b[36m(ModelServing pid=1910)\u001b[0m Recieve model update\n"
     ]
    }
   ],
   "source": [
    "##Start ray.serve\n",
    "!python3 /mnt/code/src/model_serving.py"
   ]
  },
  {
   "cell_type": "code",
   "execution_count": 6,
   "id": "fe540e93-ba18-467d-a898-37244b6e3a92",
   "metadata": {},
   "outputs": [
    {
     "name": "stdout",
     "output_type": "stream",
     "text": [
      "^C\n",
      "Traceback (most recent call last):\n",
      "  File \"/mnt/code/src/event_producer.py\", line 46, in <module>\n",
      "    producer.flush()\n",
      "KeyboardInterrupt\n"
     ]
    }
   ],
   "source": [
    "##Start event generator\n",
    "!python3 /mnt/code/src/event_producer.py"
   ]
  },
  {
   "cell_type": "code",
   "execution_count": null,
   "id": "e438d1fa-267b-45fe-9eea-85e068477ca8",
   "metadata": {},
   "outputs": [],
   "source": []
  }
 ],
 "metadata": {
  "kernelspec": {
   "display_name": "Python 3",
   "language": "python",
   "name": "python3"
  },
  "language_info": {
   "codemirror_mode": {
    "name": "ipython",
    "version": 3
   },
   "file_extension": ".py",
   "mimetype": "text/x-python",
   "name": "python",
   "nbconvert_exporter": "python",
   "pygments_lexer": "ipython3",
   "version": "3.8.8"
  }
 },
 "nbformat": 4,
 "nbformat_minor": 5
}
